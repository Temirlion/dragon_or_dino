{
  "nbformat": 4,
  "nbformat_minor": 0,
  "metadata": {
    "colab": {
      "provenance": [],
      "gpuType": "T4"
    },
    "kernelspec": {
      "name": "python3",
      "display_name": "Python 3"
    },
    "language_info": {
      "name": "python"
    },
    "accelerator": "GPU"
  },
  "cells": [
    {
      "cell_type": "code",
      "execution_count": null,
      "metadata": {
        "colab": {
          "base_uri": "https://localhost:8080/"
        },
        "id": "PV5_PLChZuO1",
        "outputId": "f21a777e-7632-4a09-8b6b-dec1487e7e5b"
      },
      "outputs": [
        {
          "output_type": "stream",
          "name": "stdout",
          "text": [
            "Mounted at /content/drive\n"
          ]
        }
      ],
      "source": [
        "from google.colab import drive\n",
        "drive.mount('/content/drive')"
      ]
    },
    {
      "cell_type": "code",
      "source": [
        "import numpy as np\n",
        "import tensorflow as tf\n",
        "from tensorflow import keras\n",
        "from tensorflow.keras.preprocessing.image import load_img\n",
        "from tensorflow.keras.applications.xception import preprocess_input\n",
        "from tensorflow.keras.preprocessing.image import ImageDataGenerator"
      ],
      "metadata": {
        "id": "Ft4w96RlalOa"
      },
      "execution_count": null,
      "outputs": []
    },
    {
      "cell_type": "code",
      "source": [
        "train_datagen = ImageDataGenerator(\n",
        "    rescale=1./255 #переводим в формат от 0 до 1 (делим на 255)\n",
        ")\n",
        "\n",
        "val_datagen = ImageDataGenerator(\n",
        "    rescale=1./255\n",
        ")"
      ],
      "metadata": {
        "id": "yFoKCMTrcp0Z"
      },
      "execution_count": null,
      "outputs": []
    },
    {
      "cell_type": "code",
      "source": [
        "train_generator = train_datagen.flow_from_directory(\n",
        "    '/content/drive/MyDrive/NimbAi/homework/Dragon_or_Dino/dino-dragon/train',\n",
        "    class_mode = 'binary',\n",
        "    batch_size=32,\n",
        "    target_size=(150, 150),\n",
        "    shuffle = True # перемешивание изображений\n",
        ")\n",
        "\n",
        "val_generator = val_datagen.flow_from_directory(\n",
        "    '/content/drive/MyDrive/NimbAi/homework/Dragon_or_Dino/dino-dragon/test',\n",
        "    class_mode = 'binary',\n",
        "    batch_size=32,\n",
        "    target_size=(150, 150),\n",
        "    shuffle = True\n",
        ")"
      ],
      "metadata": {
        "colab": {
          "base_uri": "https://localhost:8080/"
        },
        "id": "bwLIM4lwczZM",
        "outputId": "68e1a566-4cbb-4650-ec32-36364b1948f5"
      },
      "execution_count": null,
      "outputs": [
        {
          "output_type": "stream",
          "name": "stdout",
          "text": [
            "Found 1594 images belonging to 2 classes.\n",
            "Found 394 images belonging to 2 classes.\n"
          ]
        }
      ]
    },
    {
      "cell_type": "code",
      "source": [
        "model = keras.Sequential([\n",
        "    keras.Input(shape=(150, 150, 3)),\n",
        "    keras.layers.Conv2D(filters=32, kernel_size=(3, 3), activation='relu'),\n",
        "    keras.layers.MaxPooling2D(pool_size=(2, 2)),\n",
        "    keras.layers.Flatten(),\n",
        "    keras.layers.Dense(64, activation='relu'),\n",
        "    keras.layers.Dense(1, activation='sigmoid')\n",
        "])\n",
        "\n",
        "opt = keras.optimizers.SGD(learning_rate=0.002, momentum=0.8) # использование оптимайзера\n",
        "loss = keras.losses.BinaryCrossentropy(from_logits=False)\n",
        "\n",
        "model.compile(optimizer=opt, loss=loss, metrics=[keras.metrics.BinaryAccuracy(threshold=0.5)]) # Сборка модели, Метрицки оценки нейронной сети; threshold=0.5 порог, все что выше 0.5 это 1, все что ниже это 0\n",
        "history = model.fit(train_generator, epochs=10, validation_data=val_generator)"
      ],
      "metadata": {
        "colab": {
          "base_uri": "https://localhost:8080/"
        },
        "id": "0r6ZVQRifHJ8",
        "outputId": "e84ac7c1-f8ee-46f7-8256-e931cbfae149"
      },
      "execution_count": null,
      "outputs": [
        {
          "output_type": "stream",
          "name": "stdout",
          "text": [
            "Epoch 1/10\n",
            "50/50 [==============================] - 514s 10s/step - loss: 0.6002 - binary_accuracy: 0.6801 - val_loss: 0.4719 - val_binary_accuracy: 0.8274\n",
            "Epoch 2/10\n",
            "50/50 [==============================] - 11s 220ms/step - loss: 0.4312 - binary_accuracy: 0.8187 - val_loss: 0.4154 - val_binary_accuracy: 0.8071\n",
            "Epoch 3/10\n",
            "50/50 [==============================] - 11s 223ms/step - loss: 0.3879 - binary_accuracy: 0.8450 - val_loss: 0.3895 - val_binary_accuracy: 0.8299\n",
            "Epoch 4/10\n",
            "50/50 [==============================] - 12s 232ms/step - loss: 0.3307 - binary_accuracy: 0.8720 - val_loss: 0.4649 - val_binary_accuracy: 0.7640\n",
            "Epoch 5/10\n",
            "50/50 [==============================] - 12s 233ms/step - loss: 0.3315 - binary_accuracy: 0.8601 - val_loss: 0.5154 - val_binary_accuracy: 0.7259\n",
            "Epoch 6/10\n",
            "50/50 [==============================] - 11s 230ms/step - loss: 0.2853 - binary_accuracy: 0.8877 - val_loss: 0.3841 - val_binary_accuracy: 0.8249\n",
            "Epoch 7/10\n",
            "50/50 [==============================] - 11s 215ms/step - loss: 0.2533 - binary_accuracy: 0.9072 - val_loss: 0.3175 - val_binary_accuracy: 0.8579\n",
            "Epoch 8/10\n",
            "50/50 [==============================] - 11s 229ms/step - loss: 0.2336 - binary_accuracy: 0.9147 - val_loss: 0.3731 - val_binary_accuracy: 0.8274\n",
            "Epoch 9/10\n",
            "50/50 [==============================] - 12s 240ms/step - loss: 0.2040 - binary_accuracy: 0.9366 - val_loss: 0.2909 - val_binary_accuracy: 0.8731\n",
            "Epoch 10/10\n",
            "50/50 [==============================] - 12s 237ms/step - loss: 0.1940 - binary_accuracy: 0.9354 - val_loss: 0.2740 - val_binary_accuracy: 0.8858\n"
          ]
        }
      ]
    },
    {
      "cell_type": "code",
      "source": [
        "model.summary()"
      ],
      "metadata": {
        "colab": {
          "base_uri": "https://localhost:8080/"
        },
        "id": "qQtCeIr8vviS",
        "outputId": "d14a4c26-5034-4f1b-b0fa-e6a572e417af"
      },
      "execution_count": null,
      "outputs": [
        {
          "output_type": "stream",
          "name": "stdout",
          "text": [
            "Model: \"sequential\"\n",
            "_________________________________________________________________\n",
            " Layer (type)                Output Shape              Param #   \n",
            "=================================================================\n",
            " conv2d (Conv2D)             (None, 148, 148, 32)      896       \n",
            "                                                                 \n",
            " max_pooling2d (MaxPooling2  (None, 74, 74, 32)        0         \n",
            " D)                                                              \n",
            "                                                                 \n",
            " flatten (Flatten)           (None, 175232)            0         \n",
            "                                                                 \n",
            " dense (Dense)               (None, 64)                11214912  \n",
            "                                                                 \n",
            " dense_1 (Dense)             (None, 1)                 65        \n",
            "                                                                 \n",
            "=================================================================\n",
            "Total params: 11215873 (42.79 MB)\n",
            "Trainable params: 11215873 (42.79 MB)\n",
            "Non-trainable params: 0 (0.00 Byte)\n",
            "_________________________________________________________________\n"
          ]
        }
      ]
    },
    {
      "cell_type": "markdown",
      "source": [
        "Вопрос 3\n",
        "\n",
        "Какова медиана точности обучения по всем эпохам?"
      ],
      "metadata": {
        "id": "KA46WDaCxHJa"
      }
    },
    {
      "cell_type": "code",
      "source": [
        "np.mean(history.history['binary_accuracy'][:10]) # Для  всех 10-ти эпох"
      ],
      "metadata": {
        "colab": {
          "base_uri": "https://localhost:8080/"
        },
        "id": "5jiiYg1swzUQ",
        "outputId": "b2161902-3651-46e6-a68b-0b36c48c2c44"
      },
      "execution_count": null,
      "outputs": [
        {
          "output_type": "execute_result",
          "data": {
            "text/plain": [
              "0.8657465517520905"
            ]
          },
          "metadata": {},
          "execution_count": 7
        }
      ]
    },
    {
      "cell_type": "markdown",
      "source": [
        "Вопрос 4\n",
        "\n",
        "Каково стандартное отклонение потерь в процессе обучения по всем эпохам?"
      ],
      "metadata": {
        "id": "zVr_pAsOxVH4"
      }
    },
    {
      "cell_type": "code",
      "source": [
        "np.std(history.history['loss'])"
      ],
      "metadata": {
        "colab": {
          "base_uri": "https://localhost:8080/"
        },
        "id": "SMddvh6WxJ98",
        "outputId": "27620ba8-9dba-4329-f74c-37fe634218cc"
      },
      "execution_count": null,
      "outputs": [
        {
          "output_type": "execute_result",
          "data": {
            "text/plain": [
              "0.13376947295572866"
            ]
          },
          "metadata": {},
          "execution_count": 8
        }
      ]
    },
    {
      "cell_type": "markdown",
      "source": [
        "Аугментация данных\n",
        "\n",
        "Для следующего этапа вам потребуется генерировать больше данных с помощью аугментаций.\n",
        "\n",
        "Добавьте следующие аугментации к генератору обучающих данных:\n",
        "\n",
        "rotation_range=40,\n",
        "width_shift_range=0.2,\n",
        "height_shift_range=0.2,\n",
        "shear_range=0.2,\n",
        "zoom_range=0.2,\n",
        "horizontal_flip=True,\n",
        "fill_mode='nearest'\n",
        "\n",
        "Вставить в train_datagen"
      ],
      "metadata": {
        "id": "gvQeUjChxZM6"
      }
    },
    {
      "cell_type": "code",
      "source": [
        "train_datagen_2 = ImageDataGenerator(\n",
        "    rescale=1./255, #переводим в формат от 0 до 1 (делим на 255)\n",
        "    rotation_range=40,\n",
        "    width_shift_range=0.2,\n",
        "    height_shift_range=0.2,\n",
        "    shear_range=0.2,\n",
        "    zoom_range=0.2,\n",
        "    horizontal_flip=True,\n",
        "    fill_mode='nearest'\n",
        "\n",
        ")\n",
        "\n",
        "val_datagen_2 = ImageDataGenerator(\n",
        "    rescale=1./255,\n",
        "    rotation_range=40,\n",
        "    width_shift_range=0.2,\n",
        "    height_shift_range=0.2,\n",
        "    shear_range=0.2,\n",
        "    zoom_range=0.2,\n",
        "    horizontal_flip=True,\n",
        "    fill_mode='nearest'\n",
        "\n",
        ")\n",
        "\n",
        "train_generator_2 = train_datagen.flow_from_directory(\n",
        "    '/content/drive/MyDrive/NimbAi/homework/Dragon_or_Dino/dino-dragon/train',\n",
        "    class_mode = 'binary',\n",
        "    batch_size=32,\n",
        "    target_size=(150, 150),\n",
        "    shuffle = True # перемешивание изображений\n",
        ")\n",
        "\n",
        "val_generator_2 = val_datagen.flow_from_directory(\n",
        "    '/content/drive/MyDrive/NimbAi/homework/Dragon_or_Dino/dino-dragon/test',\n",
        "    class_mode = 'binary',\n",
        "    batch_size=32,\n",
        "    target_size=(150, 150),\n",
        "    shuffle = True\n",
        ")\n",
        "\n",
        "history_2 = model.fit(train_generator_2, initial_epoch=10, epochs=20, validation_data=val_generator_2)"
      ],
      "metadata": {
        "colab": {
          "base_uri": "https://localhost:8080/"
        },
        "id": "oObHzmnSxwdF",
        "outputId": "c8b07593-f46d-405a-e9c0-118e1bbc39b2"
      },
      "execution_count": null,
      "outputs": [
        {
          "output_type": "stream",
          "name": "stdout",
          "text": [
            "Found 1594 images belonging to 2 classes.\n",
            "Found 394 images belonging to 2 classes.\n",
            "Epoch 11/20\n",
            "50/50 [==============================] - 12s 244ms/step - loss: 0.1683 - binary_accuracy: 0.9486 - val_loss: 0.2747 - val_binary_accuracy: 0.8832\n",
            "Epoch 12/20\n",
            "50/50 [==============================] - 11s 231ms/step - loss: 0.1550 - binary_accuracy: 0.9511 - val_loss: 0.2782 - val_binary_accuracy: 0.8782\n",
            "Epoch 13/20\n",
            "50/50 [==============================] - 12s 231ms/step - loss: 0.1339 - binary_accuracy: 0.9668 - val_loss: 0.3192 - val_binary_accuracy: 0.8680\n",
            "Epoch 14/20\n",
            "50/50 [==============================] - 12s 235ms/step - loss: 0.1204 - binary_accuracy: 0.9705 - val_loss: 0.3479 - val_binary_accuracy: 0.8579\n",
            "Epoch 15/20\n",
            "50/50 [==============================] - 12s 231ms/step - loss: 0.1147 - binary_accuracy: 0.9680 - val_loss: 0.2672 - val_binary_accuracy: 0.8909\n",
            "Epoch 16/20\n",
            "50/50 [==============================] - 12s 233ms/step - loss: 0.0950 - binary_accuracy: 0.9774 - val_loss: 0.2836 - val_binary_accuracy: 0.8782\n",
            "Epoch 17/20\n",
            "50/50 [==============================] - 11s 219ms/step - loss: 0.0945 - binary_accuracy: 0.9780 - val_loss: 0.2614 - val_binary_accuracy: 0.9010\n",
            "Epoch 18/20\n",
            "50/50 [==============================] - 12s 240ms/step - loss: 0.0730 - binary_accuracy: 0.9881 - val_loss: 0.2756 - val_binary_accuracy: 0.8756\n",
            "Epoch 19/20\n",
            "50/50 [==============================] - 11s 228ms/step - loss: 0.0618 - binary_accuracy: 0.9925 - val_loss: 0.3001 - val_binary_accuracy: 0.8756\n",
            "Epoch 20/20\n",
            "50/50 [==============================] - 11s 228ms/step - loss: 0.0596 - binary_accuracy: 0.9937 - val_loss: 0.2697 - val_binary_accuracy: 0.8959\n"
          ]
        }
      ]
    },
    {
      "cell_type": "code",
      "source": [
        "(np.mean(history.history['val_loss']) + np.mean(history_2.history['val_loss']))/2"
      ],
      "metadata": {
        "colab": {
          "base_uri": "https://localhost:8080/"
        },
        "id": "_8fQUikVyEhk",
        "outputId": "ef9eaeac-4a87-4a74-d90e-39ef79b9f391"
      },
      "execution_count": null,
      "outputs": [
        {
          "output_type": "execute_result",
          "data": {
            "text/plain": [
              "0.3387196093797684"
            ]
          },
          "metadata": {},
          "execution_count": 12
        }
      ]
    },
    {
      "cell_type": "code",
      "source": [
        "np.mean(history_2.history['val_binary_accuracy'][6:10])"
      ],
      "metadata": {
        "colab": {
          "base_uri": "https://localhost:8080/"
        },
        "id": "c1gho8b6zjVF",
        "outputId": "f2c3351f-5a34-4cee-d467-d057fb16b9a5"
      },
      "execution_count": null,
      "outputs": [
        {
          "output_type": "execute_result",
          "data": {
            "text/plain": [
              "0.887055829167366"
            ]
          },
          "metadata": {},
          "execution_count": 11
        }
      ]
    },
    {
      "cell_type": "code",
      "source": [
        "np.mean(history_2.history['val_binary_accuracy'])"
      ],
      "metadata": {
        "colab": {
          "base_uri": "https://localhost:8080/"
        },
        "id": "xLiLXQmY4ON0",
        "outputId": "704b678e-58e0-430b-931e-380486da6136"
      },
      "execution_count": null,
      "outputs": [
        {
          "output_type": "execute_result",
          "data": {
            "text/plain": [
              "0.8804568469524383"
            ]
          },
          "metadata": {},
          "execution_count": 13
        }
      ]
    },
    {
      "cell_type": "code",
      "source": [
        "model.summary()"
      ],
      "metadata": {
        "colab": {
          "base_uri": "https://localhost:8080/"
        },
        "id": "lkpNVsgy4d6S",
        "outputId": "81690f35-109b-4f70-d305-5cebeef2c1e0"
      },
      "execution_count": null,
      "outputs": [
        {
          "output_type": "stream",
          "name": "stdout",
          "text": [
            "Model: \"sequential\"\n",
            "_________________________________________________________________\n",
            " Layer (type)                Output Shape              Param #   \n",
            "=================================================================\n",
            " conv2d (Conv2D)             (None, 148, 148, 32)      896       \n",
            "                                                                 \n",
            " max_pooling2d (MaxPooling2  (None, 74, 74, 32)        0         \n",
            " D)                                                              \n",
            "                                                                 \n",
            " flatten (Flatten)           (None, 175232)            0         \n",
            "                                                                 \n",
            " dense (Dense)               (None, 64)                11214912  \n",
            "                                                                 \n",
            " dense_1 (Dense)             (None, 1)                 65        \n",
            "                                                                 \n",
            "=================================================================\n",
            "Total params: 11215873 (42.79 MB)\n",
            "Trainable params: 11215873 (42.79 MB)\n",
            "Non-trainable params: 0 (0.00 Byte)\n",
            "_________________________________________________________________\n"
          ]
        }
      ]
    },
    {
      "cell_type": "markdown",
      "source": [
        "Вопрос 6\n",
        "\n",
        "Каково среднее значение точности на тестовом наборе данных за последние 5 эпох (с 6 по 10) после аугментации?\n",
        "\n",
        "\n",
        "* 0.84\n",
        "* 0.54\n",
        "* 0.44\n",
        "* 0.24"
      ],
      "metadata": {
        "id": "ltPYvFBx11bD"
      }
    },
    {
      "cell_type": "code",
      "source": [
        "from tensorflow.keras.preprocessing.image import load_img\n",
        "import numpy as np\n",
        "\n",
        "# Загрузка изображения и масштабирование до размера (150, 150)\n",
        "img_path = '/content/drive/MyDrive/NimbAi/homework/Dragon_or_Dino/new_img/image_gragon_2.jpeg'\n",
        "img = load_img(img_path, target_size=(150, 150))\n",
        "\n",
        "# Преобразование изображения в массив numpy и добавление измерения по оси батча\n",
        "\n",
        "def preprocess_input(x):\n",
        "    x /= 255\n",
        "    return x\n",
        "\n",
        "x = np.array(img, dtype='float32')\n",
        "X = np.array([x])\n",
        "\n",
        "X = preprocess_input(X)\n",
        "\n",
        "\n",
        "\n",
        "\n",
        "# Предсказание класса с помощью обученной модели\n",
        "predictions = model.predict(X)\n",
        "# Вывод результатов\n",
        "if predictions[0] < 0.5:\n",
        "    print(f\"Модель предсказывает класс 0 (динозавр) с вероятностью {(1-predictions[0][0])*100}%\")\n",
        "else:\n",
        "    print(f\"Модель предсказывает класс 1 (дракон) с вероятностью {(1-predictions[0][0])*100}%\")\n",
        "\n",
        "print(predictions)"
      ],
      "metadata": {
        "colab": {
          "base_uri": "https://localhost:8080/"
        },
        "id": "XCfL29OQ4ukV",
        "outputId": "a60ead3d-0c79-4baf-873f-7c67d3d109a1"
      },
      "execution_count": null,
      "outputs": [
        {
          "output_type": "stream",
          "name": "stdout",
          "text": [
            "1/1 [==============================] - 0s 162ms/step\n",
            "Модель предсказывает класс 1 (дракон) с вероятностью 29.349923133850098%\n",
            "[[0.70650077]]\n"
          ]
        }
      ]
    }
  ]
}